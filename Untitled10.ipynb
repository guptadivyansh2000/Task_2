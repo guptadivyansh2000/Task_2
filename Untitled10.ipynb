{
  "nbformat": 4,
  "nbformat_minor": 0,
  "metadata": {
    "colab": {
      "name": "Untitled10.ipynb",
      "provenance": [],
      "authorship_tag": "ABX9TyNttHVsQ63R5Orj3Udm088B",
      "include_colab_link": true
    },
    "kernelspec": {
      "name": "python3",
      "display_name": "Python 3"
    },
    "language_info": {
      "name": "python"
    }
  },
  "cells": [
    {
      "cell_type": "markdown",
      "metadata": {
        "id": "view-in-github",
        "colab_type": "text"
      },
      "source": [
        "<a href=\"https://colab.research.google.com/github/guptadivyansh2000/Task_2/blob/main/Untitled10.ipynb\" target=\"_parent\"><img src=\"https://colab.research.google.com/assets/colab-badge.svg\" alt=\"Open In Colab\"/></a>"
      ]
    },
    {
      "cell_type": "markdown",
      "metadata": {
        "id": "1devJlyxZzFo"
      },
      "source": [
        "**Task 2** \n",
        "\n",
        "**Registration Id :- SIRSS1186**\n",
        "\n",
        "**Name : Divyansh Gupta**"
      ]
    },
    {
      "cell_type": "markdown",
      "metadata": {
        "id": "aQIEi5zFakZ_"
      },
      "source": [
        "**Q1. Write a lambda expression to extract first word of a string.**"
      ]
    },
    {
      "cell_type": "code",
      "metadata": {
        "colab": {
          "base_uri": "https://localhost:8080/"
        },
        "id": "jXaRCirrfzdy",
        "outputId": "a8f78acb-83dd-4c8d-9ee7-22932d9d3b2e"
      },
      "source": [
        "str1=input()\n",
        "a=lambda x:x.split(' ')[0]\n",
        "print(a(str1))"
      ],
      "execution_count": 1,
      "outputs": [
        {
          "output_type": "stream",
          "text": [
            "my name is\n",
            "my\n"
          ],
          "name": "stdout"
        }
      ]
    },
    {
      "cell_type": "markdown",
      "metadata": {
        "id": "fSp5ICvFarW6"
      },
      "source": [
        "**Q2. Write a function to extract first word of s string (with many words separated by space).**"
      ]
    },
    {
      "cell_type": "code",
      "metadata": {
        "id": "BbM3utrqhdCN"
      },
      "source": [
        "def first_word(s):\n",
        "  return s.split(' ')[0]"
      ],
      "execution_count": 2,
      "outputs": []
    },
    {
      "cell_type": "code",
      "metadata": {
        "colab": {
          "base_uri": "https://localhost:8080/",
          "height": 35
        },
        "id": "72TvUY-LiLJy",
        "outputId": "208c3eb5-0672-418a-f49e-d2ddd25f1748"
      },
      "source": [
        "first_word('divyansh gupta')"
      ],
      "execution_count": 3,
      "outputs": [
        {
          "output_type": "execute_result",
          "data": {
            "application/vnd.google.colaboratory.intrinsic+json": {
              "type": "string"
            },
            "text/plain": [
              "'divyansh'"
            ]
          },
          "metadata": {
            "tags": []
          },
          "execution_count": 3
        }
      ]
    },
    {
      "cell_type": "markdown",
      "metadata": {
        "id": "zjgkE8Nna05t"
      },
      "source": [
        "**Q3.Extract the first word from every string from a list of strings by using map function.**"
      ]
    },
    {
      "cell_type": "code",
      "metadata": {
        "colab": {
          "base_uri": "https://localhost:8080/"
        },
        "id": "AU0ltzjsiRI1",
        "outputId": "83e7e4cd-df34-4317-b841-4adbc4f01487"
      },
      "source": [
        "list1=[]\n",
        "a=int(input(\"enter the number of string \"))\n",
        "\n",
        "\n",
        "for i in range(a):\n",
        "   str1=input(\"enter a string  \")\n",
        "   list1.append(str1)\n",
        "      \n",
        "def fun1(b):\n",
        "    return [b.split(' ')[0]]\n",
        "\n",
        "print(\"list of strings\" ,end=' ')\n",
        "print(list1)      \n",
        "result=map(fun1,list1)\n",
        "print(list(result))"
      ],
      "execution_count": 4,
      "outputs": [
        {
          "output_type": "stream",
          "text": [
            "enter the number of string 2\n",
            "enter a string  my name is \n",
            "enter a string  divyansh gupta\n",
            "list of strings ['my name is ', 'divyansh gupta']\n",
            "[['my'], ['divyansh']]\n"
          ],
          "name": "stdout"
        }
      ]
    },
    {
      "cell_type": "markdown",
      "metadata": {
        "id": "rjcHwy7kbAFr"
      },
      "source": [
        "**Q4. Write a function to return a list of prime factors of a given number.**"
      ]
    },
    {
      "cell_type": "code",
      "metadata": {
        "colab": {
          "base_uri": "https://localhost:8080/"
        },
        "id": "eat-PAD_p2wb",
        "outputId": "80bc2226-6d04-4557-f493-3a85c36b5a66"
      },
      "source": [
        "def prime_factors(a):\n",
        "    i = 2\n",
        "    factors = []\n",
        "    while i * i <= a:\n",
        "        if a % i:\n",
        "            i += 1\n",
        "        else:\n",
        "            a//= i\n",
        "            factors.append(i)\n",
        "    if a > 1:\n",
        "        factors.append(a)\n",
        "    return factors\n",
        "a=int(input(\"enter a number :\"))\n",
        "prime_factors(a)"
      ],
      "execution_count": 5,
      "outputs": [
        {
          "output_type": "stream",
          "text": [
            "enter a number :5\n"
          ],
          "name": "stdout"
        },
        {
          "output_type": "execute_result",
          "data": {
            "text/plain": [
              "[5]"
            ]
          },
          "metadata": {
            "tags": []
          },
          "execution_count": 5
        }
      ]
    },
    {
      "cell_type": "markdown",
      "metadata": {
        "id": "sTkz7qx0bMCJ"
      },
      "source": [
        "**Q5. Write a function that finds 2nd largest among 4 numbers (Repetitions are allowed,without sorting).**"
      ]
    },
    {
      "cell_type": "code",
      "metadata": {
        "colab": {
          "base_uri": "https://localhost:8080/"
        },
        "id": "BpqJvfbasABd",
        "outputId": "03ab572a-fd1b-4190-b9f2-24ef8f8b1238"
      },
      "source": [
        "def second_largest(list2):\n",
        "  mx=max(list2[0],list2[1])\n",
        "  secondmax=min(list2[0],list2[1])\n",
        "  n =len(list2)\n",
        "  for i in range(2,n):\n",
        "    if list2[i]>mx:\n",
        "        secondmax=mx\n",
        "        mx=list2[i]\n",
        "    elif list2[i]>secondmax and  mx != list2[i]:\n",
        "        secondmax=list2[i]\n",
        "  print(\"Second highest number is : \",secondmax)\n",
        "\n",
        "\n",
        "list2=[]\n",
        "a=int(input())\n",
        "for i in range(a):\n",
        "  i=int(input())\n",
        "  list2.append(i)\n",
        "print(list2)\n",
        "second_largest(list2)\n"
      ],
      "execution_count": 13,
      "outputs": [
        {
          "output_type": "stream",
          "text": [
            "3\n",
            "17\n",
            "5\n",
            "6\n",
            "[17, 5, 6]\n",
            "Second highest number is :  6\n"
          ],
          "name": "stdout"
        }
      ]
    },
    {
      "cell_type": "markdown",
      "metadata": {
        "id": "JJydzpfWZw9H"
      },
      "source": [
        ""
      ]
    },
    {
      "cell_type": "code",
      "metadata": {
        "id": "lMU2sWCduSzj"
      },
      "source": [
        ""
      ],
      "execution_count": null,
      "outputs": []
    }
  ]
}